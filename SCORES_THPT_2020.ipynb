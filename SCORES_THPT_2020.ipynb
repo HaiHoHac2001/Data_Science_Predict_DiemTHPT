{
  "nbformat": 4,
  "nbformat_minor": 0,
  "metadata": {
    "colab": {
      "name": "SCORES_THPT_2020.ipynb",
      "provenance": []
    },
    "kernelspec": {
      "name": "python3",
      "display_name": "Python 3"
    },
    "language_info": {
      "name": "python"
    }
  },
  "cells": [
    {
      "cell_type": "code",
      "source": [
        "from google.colab import drive\n",
        "drive.mount('/content/drive')"
      ],
      "metadata": {
        "colab": {
          "base_uri": "https://localhost:8080/"
        },
        "id": "PDU0GCcQODy6",
        "outputId": "7d6f1907-e154-413d-9595-3fc496784727"
      },
      "execution_count": 1,
      "outputs": [
        {
          "output_type": "stream",
          "name": "stdout",
          "text": [
            "Drive already mounted at /content/drive; to attempt to forcibly remount, call drive.mount(\"/content/drive\", force_remount=True).\n"
          ]
        }
      ]
    },
    {
      "cell_type": "code",
      "execution_count": 2,
      "metadata": {
        "id": "Te5AJ69KNiKD"
      },
      "outputs": [],
      "source": [
        "import csv\n",
        "import numpy as np \n",
        "import pandas as pd\n",
        "import matplotlib.pyplot as plt"
      ]
    },
    {
      "cell_type": "code",
      "source": [
        "data = pd.read_csv('/content/drive/MyDrive/DS_SCORES_THPT2020/clean_data.csv')"
      ],
      "metadata": {
        "id": "NNFQwSpQO-PJ"
      },
      "execution_count": 3,
      "outputs": []
    },
    {
      "cell_type": "code",
      "source": [
        "data"
      ],
      "metadata": {
        "colab": {
          "base_uri": "https://localhost:8080/",
          "height": 423
        },
        "id": "jK_soLF_PFok",
        "outputId": "b051c7b2-b853-4a29-cc7b-96dde66819ee"
      },
      "execution_count": 4,
      "outputs": [
        {
          "output_type": "execute_result",
          "data": {
            "text/plain": [
              "           sbd                      tên  dd  mm    yy  toán  ngữ văn  khxh  \\\n",
              "0      2000001      Phạm Hoàng Hương Ái   4  11  2002   6.6     6.25  6.67   \n",
              "1      2000002       Đặng Huỳnh Vĩnh An  13  12  2002   8.2     7.75  7.58   \n",
              "2      2000003  Lâm Nguyễn Mộng Thùy An   6   4  2001   6.8     6.75  6.92   \n",
              "3      2000004         Lê Tiêu Hoàng An  18  11  2002   7.8     6.25 -1.00   \n",
              "4      2000005              Lư Thuận An  14   1  2002   6.4     6.50 -1.00   \n",
              "...        ...                      ...  ..  ..   ...   ...      ...   ...   \n",
              "74439  2074714      Nguyễn Đình Hải Yến  10  11  2002   5.4     5.92 -1.00   \n",
              "74440  2074715       Nguyễn Thị Hải Yến   5   5  2002   8.6     7.00 -1.00   \n",
              "74441  2074716     Nguyễn Trần Tiểu Yến   7  10  2002   9.2     7.50 -1.00   \n",
              "74442  2074717         Phạm Thị Kim Yến  20  11  2002   9.0     7.00 -1.00   \n",
              "74443  2074718             Văn Hồng Yến  27  10  2002   5.6     6.50 -1.00   \n",
              "\n",
              "       khtn  lịch sử  địa lí  gdcd  sinh học  vật lí  hóa học  tiếng anh  \n",
              "0     -1.00     5.75    7.00  7.25     -1.00   -1.00    -1.00        5.2  \n",
              "1     -1.00     7.00    7.25  8.50     -1.00   -1.00    -1.00        7.0  \n",
              "2     -1.00     4.75    7.75  8.25     -1.00   -1.00    -1.00        6.0  \n",
              "3      6.25    -1.00   -1.00 -1.00      7.00    5.50     6.25        5.6  \n",
              "4      6.17    -1.00   -1.00 -1.00      5.50    6.75     6.25        8.2  \n",
              "...     ...      ...     ...   ...       ...     ...      ...        ...  \n",
              "74439  4.67    -1.00   -1.00 -1.00      5.50    3.50     5.00       -1.0  \n",
              "74440  7.92    -1.00   -1.00 -1.00      6.75    8.25     8.75        6.2  \n",
              "74441  8.50    -1.00   -1.00 -1.00      8.25    8.75     8.50        6.2  \n",
              "74442  8.00    -1.00   -1.00 -1.00      6.75    8.00     9.25        7.0  \n",
              "74443 -1.00     6.50    7.25 -1.00     -1.00   -1.00    -1.00       -1.0  \n",
              "\n",
              "[74444 rows x 16 columns]"
            ],
            "text/html": [
              "\n",
              "  <div id=\"df-835d4495-896a-4508-8d00-4dc72fafb822\">\n",
              "    <div class=\"colab-df-container\">\n",
              "      <div>\n",
              "<style scoped>\n",
              "    .dataframe tbody tr th:only-of-type {\n",
              "        vertical-align: middle;\n",
              "    }\n",
              "\n",
              "    .dataframe tbody tr th {\n",
              "        vertical-align: top;\n",
              "    }\n",
              "\n",
              "    .dataframe thead th {\n",
              "        text-align: right;\n",
              "    }\n",
              "</style>\n",
              "<table border=\"1\" class=\"dataframe\">\n",
              "  <thead>\n",
              "    <tr style=\"text-align: right;\">\n",
              "      <th></th>\n",
              "      <th>sbd</th>\n",
              "      <th>tên</th>\n",
              "      <th>dd</th>\n",
              "      <th>mm</th>\n",
              "      <th>yy</th>\n",
              "      <th>toán</th>\n",
              "      <th>ngữ văn</th>\n",
              "      <th>khxh</th>\n",
              "      <th>khtn</th>\n",
              "      <th>lịch sử</th>\n",
              "      <th>địa lí</th>\n",
              "      <th>gdcd</th>\n",
              "      <th>sinh học</th>\n",
              "      <th>vật lí</th>\n",
              "      <th>hóa học</th>\n",
              "      <th>tiếng anh</th>\n",
              "    </tr>\n",
              "  </thead>\n",
              "  <tbody>\n",
              "    <tr>\n",
              "      <th>0</th>\n",
              "      <td>2000001</td>\n",
              "      <td>Phạm Hoàng Hương Ái</td>\n",
              "      <td>4</td>\n",
              "      <td>11</td>\n",
              "      <td>2002</td>\n",
              "      <td>6.6</td>\n",
              "      <td>6.25</td>\n",
              "      <td>6.67</td>\n",
              "      <td>-1.00</td>\n",
              "      <td>5.75</td>\n",
              "      <td>7.00</td>\n",
              "      <td>7.25</td>\n",
              "      <td>-1.00</td>\n",
              "      <td>-1.00</td>\n",
              "      <td>-1.00</td>\n",
              "      <td>5.2</td>\n",
              "    </tr>\n",
              "    <tr>\n",
              "      <th>1</th>\n",
              "      <td>2000002</td>\n",
              "      <td>Đặng Huỳnh Vĩnh An</td>\n",
              "      <td>13</td>\n",
              "      <td>12</td>\n",
              "      <td>2002</td>\n",
              "      <td>8.2</td>\n",
              "      <td>7.75</td>\n",
              "      <td>7.58</td>\n",
              "      <td>-1.00</td>\n",
              "      <td>7.00</td>\n",
              "      <td>7.25</td>\n",
              "      <td>8.50</td>\n",
              "      <td>-1.00</td>\n",
              "      <td>-1.00</td>\n",
              "      <td>-1.00</td>\n",
              "      <td>7.0</td>\n",
              "    </tr>\n",
              "    <tr>\n",
              "      <th>2</th>\n",
              "      <td>2000003</td>\n",
              "      <td>Lâm Nguyễn Mộng Thùy An</td>\n",
              "      <td>6</td>\n",
              "      <td>4</td>\n",
              "      <td>2001</td>\n",
              "      <td>6.8</td>\n",
              "      <td>6.75</td>\n",
              "      <td>6.92</td>\n",
              "      <td>-1.00</td>\n",
              "      <td>4.75</td>\n",
              "      <td>7.75</td>\n",
              "      <td>8.25</td>\n",
              "      <td>-1.00</td>\n",
              "      <td>-1.00</td>\n",
              "      <td>-1.00</td>\n",
              "      <td>6.0</td>\n",
              "    </tr>\n",
              "    <tr>\n",
              "      <th>3</th>\n",
              "      <td>2000004</td>\n",
              "      <td>Lê Tiêu Hoàng An</td>\n",
              "      <td>18</td>\n",
              "      <td>11</td>\n",
              "      <td>2002</td>\n",
              "      <td>7.8</td>\n",
              "      <td>6.25</td>\n",
              "      <td>-1.00</td>\n",
              "      <td>6.25</td>\n",
              "      <td>-1.00</td>\n",
              "      <td>-1.00</td>\n",
              "      <td>-1.00</td>\n",
              "      <td>7.00</td>\n",
              "      <td>5.50</td>\n",
              "      <td>6.25</td>\n",
              "      <td>5.6</td>\n",
              "    </tr>\n",
              "    <tr>\n",
              "      <th>4</th>\n",
              "      <td>2000005</td>\n",
              "      <td>Lư Thuận An</td>\n",
              "      <td>14</td>\n",
              "      <td>1</td>\n",
              "      <td>2002</td>\n",
              "      <td>6.4</td>\n",
              "      <td>6.50</td>\n",
              "      <td>-1.00</td>\n",
              "      <td>6.17</td>\n",
              "      <td>-1.00</td>\n",
              "      <td>-1.00</td>\n",
              "      <td>-1.00</td>\n",
              "      <td>5.50</td>\n",
              "      <td>6.75</td>\n",
              "      <td>6.25</td>\n",
              "      <td>8.2</td>\n",
              "    </tr>\n",
              "    <tr>\n",
              "      <th>...</th>\n",
              "      <td>...</td>\n",
              "      <td>...</td>\n",
              "      <td>...</td>\n",
              "      <td>...</td>\n",
              "      <td>...</td>\n",
              "      <td>...</td>\n",
              "      <td>...</td>\n",
              "      <td>...</td>\n",
              "      <td>...</td>\n",
              "      <td>...</td>\n",
              "      <td>...</td>\n",
              "      <td>...</td>\n",
              "      <td>...</td>\n",
              "      <td>...</td>\n",
              "      <td>...</td>\n",
              "      <td>...</td>\n",
              "    </tr>\n",
              "    <tr>\n",
              "      <th>74439</th>\n",
              "      <td>2074714</td>\n",
              "      <td>Nguyễn Đình Hải Yến</td>\n",
              "      <td>10</td>\n",
              "      <td>11</td>\n",
              "      <td>2002</td>\n",
              "      <td>5.4</td>\n",
              "      <td>5.92</td>\n",
              "      <td>-1.00</td>\n",
              "      <td>4.67</td>\n",
              "      <td>-1.00</td>\n",
              "      <td>-1.00</td>\n",
              "      <td>-1.00</td>\n",
              "      <td>5.50</td>\n",
              "      <td>3.50</td>\n",
              "      <td>5.00</td>\n",
              "      <td>-1.0</td>\n",
              "    </tr>\n",
              "    <tr>\n",
              "      <th>74440</th>\n",
              "      <td>2074715</td>\n",
              "      <td>Nguyễn Thị Hải Yến</td>\n",
              "      <td>5</td>\n",
              "      <td>5</td>\n",
              "      <td>2002</td>\n",
              "      <td>8.6</td>\n",
              "      <td>7.00</td>\n",
              "      <td>-1.00</td>\n",
              "      <td>7.92</td>\n",
              "      <td>-1.00</td>\n",
              "      <td>-1.00</td>\n",
              "      <td>-1.00</td>\n",
              "      <td>6.75</td>\n",
              "      <td>8.25</td>\n",
              "      <td>8.75</td>\n",
              "      <td>6.2</td>\n",
              "    </tr>\n",
              "    <tr>\n",
              "      <th>74441</th>\n",
              "      <td>2074716</td>\n",
              "      <td>Nguyễn Trần Tiểu Yến</td>\n",
              "      <td>7</td>\n",
              "      <td>10</td>\n",
              "      <td>2002</td>\n",
              "      <td>9.2</td>\n",
              "      <td>7.50</td>\n",
              "      <td>-1.00</td>\n",
              "      <td>8.50</td>\n",
              "      <td>-1.00</td>\n",
              "      <td>-1.00</td>\n",
              "      <td>-1.00</td>\n",
              "      <td>8.25</td>\n",
              "      <td>8.75</td>\n",
              "      <td>8.50</td>\n",
              "      <td>6.2</td>\n",
              "    </tr>\n",
              "    <tr>\n",
              "      <th>74442</th>\n",
              "      <td>2074717</td>\n",
              "      <td>Phạm Thị Kim Yến</td>\n",
              "      <td>20</td>\n",
              "      <td>11</td>\n",
              "      <td>2002</td>\n",
              "      <td>9.0</td>\n",
              "      <td>7.00</td>\n",
              "      <td>-1.00</td>\n",
              "      <td>8.00</td>\n",
              "      <td>-1.00</td>\n",
              "      <td>-1.00</td>\n",
              "      <td>-1.00</td>\n",
              "      <td>6.75</td>\n",
              "      <td>8.00</td>\n",
              "      <td>9.25</td>\n",
              "      <td>7.0</td>\n",
              "    </tr>\n",
              "    <tr>\n",
              "      <th>74443</th>\n",
              "      <td>2074718</td>\n",
              "      <td>Văn Hồng Yến</td>\n",
              "      <td>27</td>\n",
              "      <td>10</td>\n",
              "      <td>2002</td>\n",
              "      <td>5.6</td>\n",
              "      <td>6.50</td>\n",
              "      <td>-1.00</td>\n",
              "      <td>-1.00</td>\n",
              "      <td>6.50</td>\n",
              "      <td>7.25</td>\n",
              "      <td>-1.00</td>\n",
              "      <td>-1.00</td>\n",
              "      <td>-1.00</td>\n",
              "      <td>-1.00</td>\n",
              "      <td>-1.0</td>\n",
              "    </tr>\n",
              "  </tbody>\n",
              "</table>\n",
              "<p>74444 rows × 16 columns</p>\n",
              "</div>\n",
              "      <button class=\"colab-df-convert\" onclick=\"convertToInteractive('df-835d4495-896a-4508-8d00-4dc72fafb822')\"\n",
              "              title=\"Convert this dataframe to an interactive table.\"\n",
              "              style=\"display:none;\">\n",
              "        \n",
              "  <svg xmlns=\"http://www.w3.org/2000/svg\" height=\"24px\"viewBox=\"0 0 24 24\"\n",
              "       width=\"24px\">\n",
              "    <path d=\"M0 0h24v24H0V0z\" fill=\"none\"/>\n",
              "    <path d=\"M18.56 5.44l.94 2.06.94-2.06 2.06-.94-2.06-.94-.94-2.06-.94 2.06-2.06.94zm-11 1L8.5 8.5l.94-2.06 2.06-.94-2.06-.94L8.5 2.5l-.94 2.06-2.06.94zm10 10l.94 2.06.94-2.06 2.06-.94-2.06-.94-.94-2.06-.94 2.06-2.06.94z\"/><path d=\"M17.41 7.96l-1.37-1.37c-.4-.4-.92-.59-1.43-.59-.52 0-1.04.2-1.43.59L10.3 9.45l-7.72 7.72c-.78.78-.78 2.05 0 2.83L4 21.41c.39.39.9.59 1.41.59.51 0 1.02-.2 1.41-.59l7.78-7.78 2.81-2.81c.8-.78.8-2.07 0-2.86zM5.41 20L4 18.59l7.72-7.72 1.47 1.35L5.41 20z\"/>\n",
              "  </svg>\n",
              "      </button>\n",
              "      \n",
              "  <style>\n",
              "    .colab-df-container {\n",
              "      display:flex;\n",
              "      flex-wrap:wrap;\n",
              "      gap: 12px;\n",
              "    }\n",
              "\n",
              "    .colab-df-convert {\n",
              "      background-color: #E8F0FE;\n",
              "      border: none;\n",
              "      border-radius: 50%;\n",
              "      cursor: pointer;\n",
              "      display: none;\n",
              "      fill: #1967D2;\n",
              "      height: 32px;\n",
              "      padding: 0 0 0 0;\n",
              "      width: 32px;\n",
              "    }\n",
              "\n",
              "    .colab-df-convert:hover {\n",
              "      background-color: #E2EBFA;\n",
              "      box-shadow: 0px 1px 2px rgba(60, 64, 67, 0.3), 0px 1px 3px 1px rgba(60, 64, 67, 0.15);\n",
              "      fill: #174EA6;\n",
              "    }\n",
              "\n",
              "    [theme=dark] .colab-df-convert {\n",
              "      background-color: #3B4455;\n",
              "      fill: #D2E3FC;\n",
              "    }\n",
              "\n",
              "    [theme=dark] .colab-df-convert:hover {\n",
              "      background-color: #434B5C;\n",
              "      box-shadow: 0px 1px 3px 1px rgba(0, 0, 0, 0.15);\n",
              "      filter: drop-shadow(0px 1px 2px rgba(0, 0, 0, 0.3));\n",
              "      fill: #FFFFFF;\n",
              "    }\n",
              "  </style>\n",
              "\n",
              "      <script>\n",
              "        const buttonEl =\n",
              "          document.querySelector('#df-835d4495-896a-4508-8d00-4dc72fafb822 button.colab-df-convert');\n",
              "        buttonEl.style.display =\n",
              "          google.colab.kernel.accessAllowed ? 'block' : 'none';\n",
              "\n",
              "        async function convertToInteractive(key) {\n",
              "          const element = document.querySelector('#df-835d4495-896a-4508-8d00-4dc72fafb822');\n",
              "          const dataTable =\n",
              "            await google.colab.kernel.invokeFunction('convertToInteractive',\n",
              "                                                     [key], {});\n",
              "          if (!dataTable) return;\n",
              "\n",
              "          const docLinkHtml = 'Like what you see? Visit the ' +\n",
              "            '<a target=\"_blank\" href=https://colab.research.google.com/notebooks/data_table.ipynb>data table notebook</a>'\n",
              "            + ' to learn more about interactive tables.';\n",
              "          element.innerHTML = '';\n",
              "          dataTable['output_type'] = 'display_data';\n",
              "          await google.colab.output.renderOutput(dataTable, element);\n",
              "          const docLink = document.createElement('div');\n",
              "          docLink.innerHTML = docLinkHtml;\n",
              "          element.appendChild(docLink);\n",
              "        }\n",
              "      </script>\n",
              "    </div>\n",
              "  </div>\n",
              "  "
            ]
          },
          "metadata": {},
          "execution_count": 4
        }
      ]
    },
    {
      "cell_type": "markdown",
      "source": [
        "# Tiền xử lí dữ liệu"
      ],
      "metadata": {
        "id": "XtXuIU7CPLow"
      }
    },
    {
      "cell_type": "markdown",
      "source": [
        "##Missing Data"
      ],
      "metadata": {
        "id": "f7KJv4csPSmx"
      }
    },
    {
      "cell_type": "code",
      "source": [
        "data.info()"
      ],
      "metadata": {
        "colab": {
          "base_uri": "https://localhost:8080/"
        },
        "id": "1-D3x2QoPGNh",
        "outputId": "2919e369-f0a2-4a9f-d4d4-cb8b8d179e1c"
      },
      "execution_count": 5,
      "outputs": [
        {
          "output_type": "stream",
          "name": "stdout",
          "text": [
            "<class 'pandas.core.frame.DataFrame'>\n",
            "RangeIndex: 74444 entries, 0 to 74443\n",
            "Data columns (total 16 columns):\n",
            " #   Column     Non-Null Count  Dtype  \n",
            "---  ------     --------------  -----  \n",
            " 0   sbd        74444 non-null  int64  \n",
            " 1   tên        74444 non-null  object \n",
            " 2   dd         74444 non-null  int64  \n",
            " 3   mm         74444 non-null  int64  \n",
            " 4   yy         74444 non-null  int64  \n",
            " 5   toán       74444 non-null  float64\n",
            " 6   ngữ văn    74444 non-null  float64\n",
            " 7   khxh       74444 non-null  float64\n",
            " 8   khtn       74444 non-null  float64\n",
            " 9   lịch sử    74444 non-null  float64\n",
            " 10  địa lí     74444 non-null  float64\n",
            " 11  gdcd       74444 non-null  float64\n",
            " 12  sinh học   74444 non-null  float64\n",
            " 13  vật lí     74444 non-null  float64\n",
            " 14  hóa học    74444 non-null  float64\n",
            " 15  tiếng anh  74444 non-null  float64\n",
            "dtypes: float64(11), int64(4), object(1)\n",
            "memory usage: 9.1+ MB\n"
          ]
        }
      ]
    },
    {
      "cell_type": "markdown",
      "source": [
        "##Convert Data to Array"
      ],
      "metadata": {
        "id": "gA4APg3mPaQ2"
      }
    },
    {
      "cell_type": "code",
      "source": [
        "data = np.array(data)"
      ],
      "metadata": {
        "id": "9iVUOsLIPXGR"
      },
      "execution_count": 6,
      "outputs": []
    },
    {
      "cell_type": "code",
      "source": [
        "data"
      ],
      "metadata": {
        "colab": {
          "base_uri": "https://localhost:8080/"
        },
        "id": "WK0SHEvhPix7",
        "outputId": "0b20a438-4de6-406f-ccab-7b7676e1cf9a"
      },
      "execution_count": 7,
      "outputs": [
        {
          "output_type": "execute_result",
          "data": {
            "text/plain": [
              "array([[2000001, 'Phạm Hoàng Hương Ái', 4, ..., -1.0, -1.0, 5.2],\n",
              "       [2000002, 'Đặng Huỳnh Vĩnh An', 13, ..., -1.0, -1.0, 7.0],\n",
              "       [2000003, 'Lâm Nguyễn Mộng Thùy An', 6, ..., -1.0, -1.0, 6.0],\n",
              "       ...,\n",
              "       [2074716, 'Nguyễn Trần Tiểu Yến', 7, ..., 8.75, 8.5, 6.2],\n",
              "       [2074717, 'Phạm Thị Kim Yến', 20, ..., 8.0, 9.25, 7.0],\n",
              "       [2074718, 'Văn Hồng Yến', 27, ..., -1.0, -1.0, -1.0]], dtype=object)"
            ]
          },
          "metadata": {},
          "execution_count": 7
        }
      ]
    },
    {
      "cell_type": "markdown",
      "source": [
        "##Convert Data with fullname to lower Text"
      ],
      "metadata": {
        "id": "dp1iAzhZPnie"
      }
    },
    {
      "cell_type": "code",
      "source": [
        "for d in data:\n",
        "  d[1] = d[1].lower()"
      ],
      "metadata": {
        "id": "9S-tyPs8PmpI"
      },
      "execution_count": 10,
      "outputs": []
    },
    {
      "cell_type": "markdown",
      "source": [
        "#Data analytics"
      ],
      "metadata": {
        "id": "GHQkNMfHQILx"
      }
    },
    {
      "cell_type": "markdown",
      "source": [
        "##Số lượng các thí sinh không tham gia dự thi ở các môn"
      ],
      "metadata": {
        "id": "QSAEpzD6TFHU"
      }
    },
    {
      "cell_type": "code",
      "source": [
        "# loop through all stds (have 11 object)\n",
        "not_take_exam = [0,0,0,0,0,0,0,0,0,0,0]\n",
        "for d in data:\n",
        "\tfor i in range(5,16):\n",
        "\t\tif d[i] == -1:\n",
        "\t\t\tnot_take_exam[i-5] += 1"
      ],
      "metadata": {
        "id": "7-x1ywXfTEHx"
      },
      "execution_count": 19,
      "outputs": []
    },
    {
      "cell_type": "code",
      "source": [
        "# theo thứ tự: Toán, văn, KHTN, KHXH, lịch sử, địa lí, gdcd, sinh, lí, hóa, anh"
      ],
      "metadata": {
        "id": "RFx-xa9padkw"
      },
      "execution_count": null,
      "outputs": []
    },
    {
      "cell_type": "code",
      "source": [
        "not_take_exam"
      ],
      "metadata": {
        "colab": {
          "base_uri": "https://localhost:8080/"
        },
        "id": "U1DzY51jT8yU",
        "outputId": "c3327357-f40f-4628-d78c-6705f5c4fa02"
      },
      "execution_count": 20,
      "outputs": [
        {
          "output_type": "execute_result",
          "data": {
            "text/plain": [
              "[265, 1802, 49223, 32496, 44131, 44847, 49353, 31849, 31591, 31356, 8709]"
            ]
          },
          "metadata": {},
          "execution_count": 20
        }
      ]
    },
    {
      "cell_type": "code",
      "source": [
        "Tasks = [not_take_exam[0],not_take_exam[1],not_take_exam[4],not_take_exam[5],not_take_exam[6],not_take_exam[7],not_take_exam[8],not_take_exam[9],not_take_exam[10]]\n",
        "\n",
        "fig, ax = plt.subplots(figsize =(16, 9))\n",
        "\n",
        "my_labels = 'Toán', 'Văn', 'Sử', 'Địa', 'GDCD', 'Sinh', 'Lí', 'Hóa', 'Anh'\n",
        "plt.pie(Tasks,labels=my_labels,autopct='%1.1f%%', textprops={'fontsize': 20})\n",
        "plt.title('% Thí sinh không tham gia thi ở các môn', fontsize = 30)\n",
        "plt.axis('equal')\n",
        "plt.show()"
      ],
      "metadata": {
        "colab": {
          "base_uri": "https://localhost:8080/",
          "height": 556
        },
        "id": "wqF9i0orUDmB",
        "outputId": "784d68e0-a60a-4797-8c28-5d0efc517497"
      },
      "execution_count": 21,
      "outputs": [
        {
          "output_type": "display_data",
          "data": {
            "text/plain": [
              "<Figure size 1152x648 with 1 Axes>"
            ],
            "image/png": "[encoded data removed]"
          },
          "metadata": {}
        }
      ]
    },
    {
      "cell_type": "markdown",
      "source": [
        "##Độ tương quan giữa số lượng các thí sinh dự thi TOÁN, VĂN, TIẾNG ANH"
      ],
      "metadata": {
        "id": "QkURW6o3Qfug"
      }
    },
    {
      "cell_type": "code",
      "source": [
        "# Số thí sinh dự thi toán\n",
        "count_ALL_student_join_math = 0\n",
        "for i in range(len(data)):\n",
        "  if data[i][5] != -1:  \n",
        "    count_ALL_student_join_math += 1\n",
        "\n",
        "# Tổng Số thí sinh dự thi VĂN\n",
        "count_ALL_student_join_literature = 0\n",
        "for i in range(len(data)):\n",
        "  if data[i][6] != -1:  \n",
        "    count_ALL_student_join_literature += 1\n",
        "\n",
        "# Tổng Số thí sinh dự thi ANH VĂN\n",
        "count_ALL_student_join_english = 0\n",
        "for i in range(len(data)):\n",
        "  if data[i][-1] != -1:  \n",
        "    count_ALL_student_join_english += 1"
      ],
      "metadata": {
        "id": "C7XirOjuP2zR"
      },
      "execution_count": 12,
      "outputs": []
    },
    {
      "cell_type": "code",
      "source": [
        "subject = ['Toán','Văn','Tiếng Anh']\n",
        "number_studen_join = [count_ALL_student_join_math, count_ALL_student_join_literature, count_ALL_student_join_english]\n",
        "\n",
        "New_Colors = ['green','blue','orange']\n",
        "fig, ax = plt.subplots(figsize =(16, 9))\n",
        "\n",
        "# assign your bars to a variable so their attributes can be accessed\n",
        "bars = plt.bar(subject, height=number_studen_join, width=.8, color=New_Colors)\n",
        "\n",
        "# access the bar attributes to place the text in the appropriate location\n",
        "for bar in bars:\n",
        "    yval = bar.get_height()\n",
        "    plt.text(bar.get_x()+0.35, yval + 700, yval)\n",
        "\n",
        "plt.title('Mức độ tương quan giữa số lượng các thí sinh tham gia dự thi TOÁN, VĂN và ANH VĂN', fontsize=20)\n",
        "plt.xlabel('3 môn xét tốt nghiệp', fontsize=20)\n",
        "plt.ylabel('Số lượng thí sinh tham gia', fontsize=20)\n",
        "plt.grid(True)\n",
        "plt.show()"
      ],
      "metadata": {
        "colab": {
          "base_uri": "https://localhost:8080/",
          "height": 588
        },
        "id": "Ct79BRGHRn4b",
        "outputId": "cb2eea08-6300-427c-8ef8-4e1b43c2530a"
      },
      "execution_count": 13,
      "outputs": [
        {
          "output_type": "display_data",
          "data": {
            "text/plain": [
              "<Figure size 1152x648 with 1 Axes>"
            ],
            "image/png": "[encoded data removed]"
          },
          "metadata": {
            "needs_background": "light"
          }
        }
      ]
    },
    {
      "cell_type": "markdown",
      "source": [
        "##Phổ điểm môn Toán của các thí sinh"
      ],
      "metadata": {
        "id": "VyKPTpRTV2if"
      }
    },
    {
      "cell_type": "code",
      "source": [
        "# if điểm từ 0-->1 sẽ coi là 1\n",
        "\n",
        "score_1 = []\n",
        "score_2 = []\n",
        "score_3 = []\n",
        "score_4 = []\n",
        "score_5 = []\n",
        "score_6 = []\n",
        "score_7 = []\n",
        "score_8 = []\n",
        "score_9 = []\n",
        "score_10 = []\n",
        "\n",
        "count_score_1 = 0\n",
        "count_score_2 = 0\n",
        "count_score_3 = 0\n",
        "count_score_4 = 0\n",
        "count_score_5 = 0\n",
        "count_score_6 = 0\n",
        "count_score_7 = 0\n",
        "count_score_8 = 0\n",
        "count_score_9 = 0\n",
        "count_score_10 = 0\n",
        "\n",
        "for i in range(len(data)):\n",
        "  if data[i][5] >= 0 and  data[i][5] <= 1:\n",
        "    score_1.append(data[i][5])\n",
        "    count_score_1 += 1\n",
        "  if data[i][5] > 1 and  data[i][5] <= 2:\n",
        "    score_2.append(data[i][5])\n",
        "    count_score_2 += 1\n",
        "\n",
        "  if data[i][5] > 2 and  data[i][5] <= 3:\n",
        "    score_3.append(data[i][5])\n",
        "    count_score_3 += 1\n",
        "\n",
        "  if data[i][5] >3 and  data[i][5] <= 4:\n",
        "    score_4.append(data[i][5])\n",
        "    count_score_4 += 1\n",
        "\n",
        "  if data[i][5] > 4 and  data[i][5] <= 5:\n",
        "    score_5.append(data[i][5])\n",
        "    count_score_5 += 1\n",
        "\n",
        "  if data[i][5] > 5 and  data[i][5] <= 6:\n",
        "    score_6.append(data[i][5])\n",
        "    count_score_6 += 1\n",
        "\n",
        "  if data[i][5] > 6 and  data[i][5] <= 7:\n",
        "    score_7.append(data[i][5])\n",
        "    count_score_7 += 1\n",
        "\n",
        "  if data[i][5] > 7 and  data[i][5] <= 8:\n",
        "    score_8.append(data[i][5])\n",
        "    count_score_8 += 1\n",
        "\n",
        "  if data[i][5] > 8 and  data[i][5] <= 9:\n",
        "    score_9.append(data[i][5])\n",
        "    count_score_9 += 1\n",
        "\n",
        "  if data[i][5] >9 and  data[i][5] <= 10:\n",
        "    score_10.append(data[i][5])\n",
        "    count_score_10 += 1\n"
      ],
      "metadata": {
        "id": "DSehkoqCWBUI"
      },
      "execution_count": 31,
      "outputs": []
    },
    {
      "cell_type": "code",
      "source": [
        "def Average(lst):\n",
        "    return sum(lst) / len(lst)"
      ],
      "metadata": {
        "id": "QQgMQ2jiWQxa"
      },
      "execution_count": 32,
      "outputs": []
    },
    {
      "cell_type": "code",
      "source": [
        "avg_score_1 = round(Average(score_1),2)\n",
        "avg_score_2 = round(Average(score_2),2)\n",
        "avg_score_3 = round(Average(score_3),2)\n",
        "avg_score_4 = round(Average(score_4),2)\n",
        "avg_score_5 = round(Average(score_5),2)\n",
        "avg_score_6 = round(Average(score_6),2)\n",
        "avg_score_7 = round(Average(score_7),2)\n",
        "avg_score_8 = round(Average(score_8),2)\n",
        "avg_score_9 = round(Average(score_9),2)\n",
        "avg_score_10 = round(Average(score_10),2)"
      ],
      "metadata": {
        "id": "CzwKICO6WDeQ"
      },
      "execution_count": 33,
      "outputs": []
    },
    {
      "cell_type": "code",
      "source": [
        "# Số thí sinh dự thi toán\n",
        "count_ALL_student_join_math = 0\n",
        "for i in range(len(data)):\n",
        "  if data[i][5] != -1:  \n",
        "    count_ALL_student_join_math += 1"
      ],
      "metadata": {
        "id": "uZX31WGoWDq1"
      },
      "execution_count": 34,
      "outputs": []
    },
    {
      "cell_type": "code",
      "source": [
        "avg_score = [avg_score_1,avg_score_2,avg_score_3,avg_score_4,avg_score_5,avg_score_6,avg_score_7,avg_score_8,avg_score_9,avg_score_10]\n",
        "count_score = [count_score_1, count_score_2,count_score_3,count_score_4,count_score_5,count_score_6,count_score_7, count_score_8,count_score_9,count_score_10]\n",
        "\n",
        "fig, ax = plt.subplots(figsize =(16, 9))\n",
        "\n",
        "# assign your bars to a variable so their attributes can be accessed\n",
        "bars = plt.bar(avg_score, height=count_score, width=.8)\n",
        "\n",
        "y = np.arange(11)\n",
        "plt.xticks(avg_score,y)\n",
        "\n",
        "# access the bar attributes to place the text in the appropriate location\n",
        "for bar in bars:\n",
        "    yval = bar.get_height()\n",
        "    plt.text(bar.get_x()+0.22, yval + 400, yval)\n",
        "\n",
        "plt.title('Phổ điểm trung bình môn TOÁN của các thí sinh thi THPT 2020')\n",
        "plt.xlabel('Score_math')\n",
        "plt.ylabel('SL thí sinh tham gia thi Toán')\n",
        "plt.show()\n"
      ],
      "metadata": {
        "colab": {
          "base_uri": "https://localhost:8080/",
          "height": 570
        },
        "id": "UesVGjHSWDtN",
        "outputId": "207a6f4a-5173-4a1c-e3b1-e666c22e7c4b"
      },
      "execution_count": 35,
      "outputs": [
        {
          "output_type": "display_data",
          "data": {
            "text/plain": [
              "<Figure size 1152x648 with 1 Axes>"
            ],
            "image/png": "[encoded data removed]"
          },
          "metadata": {
            "needs_background": "light"
          }
        }
      ]
    },
    {
      "cell_type": "markdown",
      "source": [
        "##Phổ điểm môn văn của các thí sinh"
      ],
      "metadata": {
        "id": "z7rSR40nWll2"
      }
    },
    {
      "cell_type": "code",
      "source": [
        "# if điểm từ 0-->1 sẽ coi là 1\n",
        "\n",
        "score_1_literature = []\n",
        "score_2_literature = []\n",
        "score_3_literature = []\n",
        "score_4_literature = []\n",
        "score_5_literature = []\n",
        "score_6_literature = []\n",
        "score_7_literature = []\n",
        "score_8_literature = []\n",
        "score_9_literature = []\n",
        "score_10_literature = []\n",
        "\n",
        "count_score_1_literature = 0\n",
        "count_score_2_literature = 0\n",
        "count_score_3_literature = 0\n",
        "count_score_4_literature = 0\n",
        "count_score_5_literature = 0\n",
        "count_score_6_literature = 0\n",
        "count_score_7_literature = 0\n",
        "count_score_8_literature = 0\n",
        "count_score_9_literature = 0\n",
        "count_score_10_literature = 0\n",
        "\n",
        "for i in range(len(data)):\n",
        "  if data[i][6] >= 0 and  data[i][6] <= 1:\n",
        "    score_1_literature.append(data[i][6])\n",
        "    count_score_1_literature += 1\n",
        "  if data[i][6] > 1 and  data[i][6] <= 2:\n",
        "    score_2_literature.append(data[i][6])\n",
        "    count_score_2_literature += 1\n",
        "\n",
        "  if data[i][6] > 2 and  data[i][6] <= 3:\n",
        "    score_3_literature.append(data[i][6])\n",
        "    count_score_3_literature += 1\n",
        "\n",
        "  if data[i][6] >3 and  data[i][6] <= 4:\n",
        "    score_4_literature.append(data[i][6])\n",
        "    count_score_4_literature += 1\n",
        "\n",
        "  if data[i][6] > 4 and  data[i][6] <= 5:\n",
        "    score_5_literature.append(data[i][6])\n",
        "    count_score_5_literature += 1\n",
        "\n",
        "  if data[i][6] > 5 and  data[i][6] <= 6:\n",
        "    score_6_literature.append(data[i][6])\n",
        "    count_score_6_literature += 1\n",
        "\n",
        "  if data[i][6] > 6 and  data[i][6] <= 7:\n",
        "    score_7_literature.append(data[i][6])\n",
        "    count_score_7_literature += 1\n",
        "\n",
        "  if data[i][6] > 7 and  data[i][6] <= 8:\n",
        "    score_8_literature.append(data[i][6])\n",
        "    count_score_8_literature += 1\n",
        "\n",
        "  if data[i][6] > 8 and  data[i][6] <= 9:\n",
        "    score_9_literature.append(data[i][6])\n",
        "    count_score_9_literature += 1\n",
        "\n",
        "  if data[i][6] >9 and  data[i][6] <= 10:\n",
        "    score_10_literature.append(data[i][6])\n",
        "    count_score_10_literature += 1\n"
      ],
      "metadata": {
        "id": "Riz5RJASWp3s"
      },
      "execution_count": 36,
      "outputs": []
    },
    {
      "cell_type": "code",
      "source": [
        "avg_score_1_literature = round(Average(score_1_literature),2)\n",
        "avg_score_2_literature = round(Average(score_2_literature),2)\n",
        "avg_score_3_literature = round(Average(score_3_literature),2)\n",
        "avg_score_4_literature = round(Average(score_4_literature),2)\n",
        "avg_score_5_literature = round(Average(score_5_literature),2)\n",
        "avg_score_6_literature = round(Average(score_6_literature),2)\n",
        "avg_score_7_literature = round(Average(score_7_literature),2)\n",
        "avg_score_8_literature = round(Average(score_8_literature),2)\n",
        "avg_score_9_literature = round(Average(score_9_literature),2)\n",
        "avg_score_10_literature = round(Average(score_10_literature),2)"
      ],
      "metadata": {
        "id": "2vtjJKssWrBH"
      },
      "execution_count": 37,
      "outputs": []
    },
    {
      "cell_type": "code",
      "source": [
        "# Tổng Số thí sinh dự thi VĂN\n",
        "count_ALL_student_join_literature = 0\n",
        "for i in range(len(data)):\n",
        "  if data[i][6] != -1:  \n",
        "    count_ALL_student_join_literature += 1"
      ],
      "metadata": {
        "id": "AEce-uyxWrKO"
      },
      "execution_count": 38,
      "outputs": []
    },
    {
      "cell_type": "code",
      "source": [
        "avg_score_literature = [avg_score_1_literature,avg_score_2_literature,avg_score_3_literature,avg_score_4_literature,avg_score_5_literature,avg_score_6_literature,avg_score_7_literature,avg_score_8_literature,avg_score_9_literature,avg_score_10_literature]\n",
        "count_score_literature = [count_score_1_literature, count_score_2_literature,count_score_3_literature,count_score_4_literature,count_score_5_literature,count_score_6_literature,count_score_7_literature, count_score_8_literature,count_score_9_literature,count_score_10_literature]\n",
        "\n",
        "fig, ax = plt.subplots(figsize =(16, 9))\n",
        "\n",
        "# assign your bars to a variable so their attributes can be accessed\n",
        "bars = plt.bar(avg_score_literature, height=count_score_literature, width=.8)\n",
        "\n",
        "y = np.arange(11)\n",
        "plt.xticks(avg_score_literature,y)\n",
        "\n",
        "# access the bar attributes to place the text in the appropriate location\n",
        "for bar in bars:\n",
        "    yval = bar.get_height()\n",
        "    plt.text(bar.get_x()+0.22, yval + 400, yval)\n",
        "\n",
        "plt.title('Phổ điểm trung bình môn VĂN của các thí sinh thi THPT 2020')\n",
        "plt.xlabel('Score_math')\n",
        "plt.ylabel('SL thí sinh tham gia thi VĂN')\n",
        "plt.show()\n"
      ],
      "metadata": {
        "colab": {
          "base_uri": "https://localhost:8080/",
          "height": 570
        },
        "id": "Qm_bEx9GWrNq",
        "outputId": "52a3e538-73de-4dc4-ea43-344ff66b59f8"
      },
      "execution_count": 39,
      "outputs": [
        {
          "output_type": "display_data",
          "data": {
            "text/plain": [
              "<Figure size 1152x648 with 1 Axes>"
            ],
            "image/png": "[encoded data removed]"
          },
          "metadata": {
            "needs_background": "light"
          }
        }
      ]
    },
    {
      "cell_type": "markdown",
      "source": [
        "##Phổ điểm môn Tiếng Anh của các thí sinh"
      ],
      "metadata": {
        "id": "nk6UU-gdW2Rr"
      }
    },
    {
      "cell_type": "code",
      "source": [
        "# if điểm từ 0-->1 sẽ coi là 1\n",
        "\n",
        "score_1_english = []\n",
        "score_2_english = []\n",
        "score_3_english = []\n",
        "score_4_english = []\n",
        "score_5_english = []\n",
        "score_6_english = []\n",
        "score_7_english = []\n",
        "score_8_english = []\n",
        "score_9_english = []\n",
        "score_10_english = []\n",
        "\n",
        "count_score_1_english = 0\n",
        "count_score_2_english = 0\n",
        "count_score_3_english = 0\n",
        "count_score_4_english = 0\n",
        "count_score_5_english = 0\n",
        "count_score_6_english = 0\n",
        "count_score_7_english = 0\n",
        "count_score_8_english = 0\n",
        "count_score_9_english = 0\n",
        "count_score_10_english = 0\n",
        "\n",
        "for i in range(len(data)):\n",
        "  if data[i][-1] >= 0 and  data[i][-1] <= 1:\n",
        "    score_1_english.append(data[i][-1])\n",
        "    count_score_1_english += 1\n",
        "  if data[i][-1] > 1 and  data[i][-1] <= 2:\n",
        "    score_2_english.append(data[i][-1])\n",
        "    count_score_2_english += 1\n",
        "\n",
        "  if data[i][-1] > 2 and  data[i][-1] <= 3:\n",
        "    score_3_english.append(data[i][-1])\n",
        "    count_score_3_english += 1\n",
        "\n",
        "  if data[i][-1] >3 and  data[i][-1] <= 4:\n",
        "    score_4_english.append(data[i][-1])\n",
        "    count_score_4_english += 1\n",
        "\n",
        "  if data[i][-1] > 4 and  data[i][-1] <= 5:\n",
        "    score_5_english.append(data[i][-1])\n",
        "    count_score_5_english += 1\n",
        "\n",
        "  if data[i][-1] > 5 and  data[i][-1] <= 6:\n",
        "    score_6_english.append(data[i][-1])\n",
        "    count_score_6_english += 1\n",
        "\n",
        "  if data[i][-1] > 6 and  data[i][-1] <= 7:\n",
        "    score_7_english.append(data[i][-1])\n",
        "    count_score_7_english += 1\n",
        "\n",
        "  if data[i][-1] > 7 and  data[i][-1] <= 8:\n",
        "    score_8_english.append(data[i][-1])\n",
        "    count_score_8_english += 1\n",
        "\n",
        "  if data[i][-1] > 8 and  data[i][-1] <= 9:\n",
        "    score_9_english.append(data[i][-1])\n",
        "    count_score_9_english += 1\n",
        "\n",
        "  if data[i][-1] >9 and  data[i][-1] <= 10:\n",
        "    score_10_english.append(data[i][-1])\n",
        "    count_score_10_english += 1\n"
      ],
      "metadata": {
        "id": "PSg6KWwEZ1Ph"
      },
      "execution_count": 40,
      "outputs": []
    },
    {
      "cell_type": "code",
      "source": [
        "# Tổng Số thí sinh dự thi ANH VĂN\n",
        "count_ALL_student_join_english = 0\n",
        "for i in range(len(data)):\n",
        "  if data[i][-1] != -1:  \n",
        "    count_ALL_student_join_english += 1"
      ],
      "metadata": {
        "id": "lNiv5O5AZ1H9"
      },
      "execution_count": 41,
      "outputs": []
    },
    {
      "cell_type": "code",
      "source": [
        "avg_score_1_english = round(Average(score_1_english),2)\n",
        "avg_score_2_english = round(Average(score_2_english),2)\n",
        "avg_score_3_english = round(Average(score_3_english),2)\n",
        "avg_score_4_english = round(Average(score_4_english),2)\n",
        "avg_score_5_english = round(Average(score_5_english),2)\n",
        "avg_score_6_english = round(Average(score_6_english),2)\n",
        "avg_score_7_english = round(Average(score_7_english),2)\n",
        "avg_score_8_english = round(Average(score_8_english),2)\n",
        "avg_score_9_english = round(Average(score_9_english),2)\n",
        "avg_score_10_english = round(Average(score_10_english),2)"
      ],
      "metadata": {
        "id": "ASTiCMS7Z00c"
      },
      "execution_count": 42,
      "outputs": []
    },
    {
      "cell_type": "code",
      "source": [
        "avg_score_english = [avg_score_1_english,avg_score_2_english,avg_score_3_english,avg_score_4_english,avg_score_5_english,avg_score_6_english,avg_score_7_english,avg_score_8_english,avg_score_9_english,avg_score_10_english]\n",
        "count_score_english = [count_score_1_english, count_score_2_english,count_score_3_english,count_score_4_english,count_score_5_english,count_score_6_english,count_score_7_english, count_score_8_english,count_score_9_english,count_score_10_english]\n",
        "\n",
        "fig, ax = plt.subplots(figsize =(16, 9))\n",
        "\n",
        "# assign your bars to a variable so their attributes can be accessed\n",
        "bars = plt.bar(avg_score_english, height=count_score_english, width=.8)\n",
        "\n",
        "y = np.arange(11)\n",
        "plt.xticks(avg_score_english,y)\n",
        "# access the bar attributes to place the text in the appropriate location\n",
        "for bar in bars:\n",
        "    yval = bar.get_height()\n",
        "    plt.text(bar.get_x()+0.22, yval + 150, yval)\n",
        "\n",
        "plt.title('Phổ điểm trung bình môn ANH VĂN của các thí sinh thi THPT 2020')\n",
        "plt.xlabel('Score_math')\n",
        "plt.ylabel('SL thí sinh tham gia thi ANH VĂN')\n",
        "plt.show()\n"
      ],
      "metadata": {
        "colab": {
          "base_uri": "https://localhost:8080/",
          "height": 570
        },
        "id": "qEg4KqElZ-vl",
        "outputId": "0e994c78-0db8-48fe-d897-c1f1da565697"
      },
      "execution_count": 45,
      "outputs": [
        {
          "output_type": "display_data",
          "data": {
            "text/plain": [
              "<Figure size 1152x648 with 1 Axes>"
            ],
            "image/png": "[encoded data removed]"
          },
          "metadata": {
            "needs_background": "light"
          }
        }
      ]
    },
    {
      "cell_type": "markdown",
      "source": [
        "##Độ tương quan của các thí sinh dự thi nhóm môn KHTN vs KHXH"
      ],
      "metadata": {
        "id": "GxqjsCJySK_R"
      }
    },
    {
      "cell_type": "code",
      "source": [
        "# Đếm số lượng các thí sinh dự thi KHXH\n",
        "count_std_KHXH = 0\n",
        "list_score_KHXH =[]\n",
        "for i in range(len(data)):\n",
        "  if data[i][7] != -1:\n",
        "    count_std_KHXH += 1\n",
        "    list_score_KHXH.append(data[i][7])"
      ],
      "metadata": {
        "id": "cbhmsa4mSEGT"
      },
      "execution_count": 14,
      "outputs": []
    },
    {
      "cell_type": "code",
      "source": [
        "# Đếm số lượng các thí sinh dự thi KHTN\n",
        "count_std_KHTN = 0\n",
        "list_score_KHTN =[]\n",
        "for i in range(len(data)):\n",
        "  if data[i][8] != -1:\n",
        "    count_std_KHTN += 1\n",
        "    list_score_KHTN.append(data[i][8])"
      ],
      "metadata": {
        "id": "C5Cy33-mSEep"
      },
      "execution_count": 15,
      "outputs": []
    },
    {
      "cell_type": "code",
      "source": [
        "SL_std = [count_std_KHTN, count_std_KHXH]\n",
        "my_labels = 'KHTN','KHXH'\n",
        "\n",
        "fig, ax = plt.subplots(figsize =(16, 9))\n",
        "\n",
        "plt.pie(SL_std,labels=my_labels,autopct='%1.1f%%', textprops={'fontsize': 14})\n",
        "plt.title('Tỉ lệ % giữa thí sinh dự thi ban KHTN và ban KHXH',fontsize=20)\n",
        "plt.axis('equal')\n",
        "plt.show()"
      ],
      "metadata": {
        "colab": {
          "base_uri": "https://localhost:8080/",
          "height": 543
        },
        "id": "54jzC9uzSEkK",
        "outputId": "772c9025-6036-46ea-8797-17748eedd76a"
      },
      "execution_count": 18,
      "outputs": [
        {
          "output_type": "display_data",
          "data": {
            "text/plain": [
              "<Figure size 1152x648 with 1 Axes>"
            ],
            "image/png": "[encoded data removed]"
          },
          "metadata": {}
        }
      ]
    },
    {
      "cell_type": "markdown",
      "source": [
        "##Số lượng các môn học mà thí sinh đăng ký dự thi"
      ],
      "metadata": {
        "id": "6_04AYtIUb7F"
      }
    },
    {
      "cell_type": "code",
      "source": [
        "# number of student who took 0,1,2,....11 subject\n",
        "# Số học sinh thi các môn 0,1,2,3,....11 môn trong đó 0: học sinh chẳng thi môn nào\n",
        "num_of_exam_taken = [0,0,0,0,0,0,0,0,0,0,0,0]\n",
        "everange = [0,0,0,0,0,0,0,0,0,0,0,0]\n",
        "for d in data:\n",
        "\tcount = 0\n",
        "\tfor i in range(11):\n",
        "\t\tif d[i+5] != -1:\n",
        "\t\t\tcount += 1\n",
        "\tnum_of_exam_taken[count] += 1\n",
        "\n",
        "print(num_of_exam_taken)"
      ],
      "metadata": {
        "colab": {
          "base_uri": "https://localhost:8080/"
        },
        "id": "SQcwZSBnSEnk",
        "outputId": "46cdef25-43c9-4e14-ef91-310e6f8c1ff0"
      },
      "execution_count": 22,
      "outputs": [
        {
          "output_type": "stream",
          "name": "stdout",
          "text": [
            "[0, 80, 122, 2598, 4334, 318, 2730, 64261, 0, 0, 0, 1]\n"
          ]
        }
      ]
    },
    {
      "cell_type": "markdown",
      "source": [
        "####NOTE: có 1 thí sinh đăng ký thi cả 11 môn học "
      ],
      "metadata": {
        "id": "mI5vJRtYUl64"
      }
    },
    {
      "cell_type": "code",
      "source": [
        "# có một thí sinh thi toàn bộ các môn (11 môn), xem đấy là \"vị cao nhân đắc đạo nào\"?\n",
        "# => Trần Ngọc Minh Châu\n",
        "num_of_exam_taken = [0,0,0,0,0,0,0,0,0,0,0,0]\n",
        "for d in data:\n",
        "  count = 0\n",
        "  for i in range(11):\n",
        "    if d[i+5] != -1:\n",
        "      count+= 1\n",
        "    if count == 11:\n",
        "      print(d)\n",
        "    num_of_exam_taken[count] += 1\n"
      ],
      "metadata": {
        "colab": {
          "base_uri": "https://localhost:8080/"
        },
        "id": "qmP_QAyXSEuH",
        "outputId": "ecf65c06-7a42-47b0-8d73-2fe6cbfcd1d2"
      },
      "execution_count": 23,
      "outputs": [
        {
          "output_type": "stream",
          "name": "stdout",
          "text": [
            "[2050326 'trần ngọc minh châu' 28 4 2001 6.0 7.0 7.08 0.0 5.5 7.75 8.0 0.0\n",
            " 0.0 0.0 5.6]\n"
          ]
        }
      ]
    },
    {
      "cell_type": "markdown",
      "source": [
        "## Tính điểm trung bình theo số lượng các môn mà các thí sinh đã đăng ký"
      ],
      "metadata": {
        "id": "wpfX8XFhU5Yd"
      }
    },
    {
      "cell_type": "code",
      "source": [
        "num_of_exam_taken = [0,0,0,0,0,0,0,0,0,0,0,0]\n",
        "averange = [0,0,0,0,0,0,0,0,0,0,0,0]\n",
        "\n",
        "for d in data:\n",
        "  count = 0\n",
        "  total = 0\n",
        "  for i in range(11):\n",
        "    if d[i+5] != -1:\n",
        "      total += d[i+5]\n",
        "      count += 1\n",
        "  num_of_exam_taken[count] += 1\n",
        "  # ví dụ thí sinh thi 3 môn mỗi môn là 9 điểm thì TB là 27/3 và cái averange này đang là tổng điểm TB\n",
        "  averange[count] += total/count\n",
        "\n",
        "for i in range(12):\n",
        "  if num_of_exam_taken[i] != 0:\n",
        "    averange[i] = round(averange[i]/num_of_exam_taken[i],2)"
      ],
      "metadata": {
        "id": "4GkeGLPYSFGr"
      },
      "execution_count": 24,
      "outputs": []
    },
    {
      "cell_type": "code",
      "source": [
        "x = np.arange(12)\n",
        "y = np.arange(12)\n",
        "\n",
        "fig, axis = plt.subplots(figsize =(16, 9))\n",
        "plt.bar(x, averange)\n",
        "\n",
        "# set limit\n",
        "axis.set_ylim(0,10)\n",
        "\n",
        "# label for colum X\n",
        "plt.xticks(x, y)\n",
        "\n",
        "axis.set_ylabel(\"Điểm trung bình\")\n",
        "\n",
        "rects = axis.patches\n",
        "\n",
        "labels = averange\n",
        "for rect, label in zip(rects, labels):\n",
        "  height = rect.get_height()\n",
        "  axis.text(rect.get_x() + rect.get_width()/2, height , label, ha='center', va='bottom')\n",
        "\n",
        "plt.title(\"Điểm trung bình số học sinh thi 0,1,2,...11 môn\", fontsize=20)\n",
        "plt.show\n"
      ],
      "metadata": {
        "colab": {
          "base_uri": "https://localhost:8080/",
          "height": 578
        },
        "id": "AcR8pmSRSFHd",
        "outputId": "34432088-62f8-4bc0-e465-03e18b4ae525"
      },
      "execution_count": 26,
      "outputs": [
        {
          "output_type": "execute_result",
          "data": {
            "text/plain": [
              "<function matplotlib.pyplot.show>"
            ]
          },
          "metadata": {},
          "execution_count": 26
        },
        {
          "output_type": "display_data",
          "data": {
            "text/plain": [
              "<Figure size 1152x648 with 1 Axes>"
            ],
            "image/png": "[encoded data removed]"
          },
          "metadata": {
            "needs_background": "light"
          }
        }
      ]
    },
    {
      "cell_type": "markdown",
      "source": [
        "##Sự tương quan của độ tuổi và điểm thi"
      ],
      "metadata": {
        "id": "-82t9eUOVVKU"
      }
    },
    {
      "cell_type": "code",
      "source": [
        "# Lấy ra tổng số học sinh của mỗi nhóm tuổi\n",
        "# 2003, 2002, 2001, ... , <=1993\n",
        "# 17, 18, 19, ... , 26, >=27\n",
        "\n",
        "CURRENT_YEAR = 2020\n",
        "\n",
        "# Độ tuổi của học sinh trong mỗi nhóm\n",
        "num_of_std_per_age_group = [0,0,0,0,0,0,0,0,0,0,0]\n",
        "\n",
        "# Điểm trung bình của học sinh trong mỗi nhóm\n",
        "averange_of_std_per_age_group = [0,0,0,0,0,0,0,0,0,0,0]\n",
        "\n",
        "for d in data:\n",
        "  age = CURRENT_YEAR - d[4]\n",
        "  if age >27:\n",
        "    age = 27\n",
        "  num_of_std_per_age_group[age - 17] += 1\n",
        "\n",
        "  sum_score = 0 # Tổng điểm\n",
        "  count_score = 0 # Số môn thi\n",
        "  for i in range(11):\n",
        "    if d[i+5] != -1:\n",
        "      count_score += 1\n",
        "      sum_score += d[i+5]\n",
        "\n",
        "  averange = sum_score/count_score\n",
        "  averange_of_std_per_age_group[age -17] += averange\n"
      ],
      "metadata": {
        "id": "28CnotpUSFKK"
      },
      "execution_count": 27,
      "outputs": []
    },
    {
      "cell_type": "code",
      "source": [
        "# Tính trung bình\n",
        "for i in range(len(averange_of_std_per_age_group)):\n",
        "  averange_of_std_per_age_group[i] = averange_of_std_per_age_group[i]/num_of_std_per_age_group[i]\n",
        "\n",
        "# scale cái giá trị của averange_of_std_per_age_group * 7000 để vẽ cái biểu đồ đường cho nó trực quan\n",
        "for i in range(len(averange_of_std_per_age_group)):\n",
        "  averange_of_std_per_age_group[i] = averange_of_std_per_age_group[i] * 7000"
      ],
      "metadata": {
        "id": "qCGKb8xQSFLe"
      },
      "execution_count": 28,
      "outputs": []
    },
    {
      "cell_type": "code",
      "source": [
        "# Vẽ biểu đồ\n",
        "\n",
        "x = np.arange(11)\n",
        "y = np.arange(11)\n",
        "\n",
        "age_label = ['17 tuổi', '18 tuổi','19 tuổi','20 tuổi','21 tuổi','22 tuổi','23 tuổi','24 tuổi','25 tuổi','26 tuổi','>26']\n",
        "\n",
        "fig, axis = plt.subplots(figsize =(16, 9))\n",
        "plt.bar(x, num_of_std_per_age_group)\n",
        "plt.plot(x, averange_of_std_per_age_group, color='red',marker ='.')\n",
        "\n",
        "# set limit\n",
        "axis.set_ylim(0,70000)\n",
        "\n",
        "# label for column x\n",
        "plt.xticks(x, age_label)\n",
        "\n",
        "# plt.xticks(x, y)\n",
        "# label for colum X\n",
        "axis.set_xlabel(\"ĐỘ TUỔI\")\n",
        "axis.set_ylabel(\"Số học sinh\")\n",
        "\n",
        "# right side ticks\n",
        "ax2 = axis.twinx()\n",
        "ax2.tick_params('y', colors = 'r')\n",
        "ax2.set_ylabel(\"Điểm trung bình\")\n",
        "ax2.set_ylim(0,10)\n",
        "\n",
        "rects = axis.patches\n",
        "\n",
        "labels = num_of_std_per_age_group\n",
        "for rect, label in zip(rects, labels):\n",
        "  height = rect.get_height()\n",
        "  axis.text(rect.get_x() + rect.get_width()/2, height , label, ha='center', va='bottom')\n",
        "\n",
        "plt.title(\"Điểm trung bình số học sinh thi 0,1,2,...11 môn\", fontsize=20)\n",
        "plt.show\n"
      ],
      "metadata": {
        "colab": {
          "base_uri": "https://localhost:8080/",
          "height": 595
        },
        "id": "ZVfHocpBSFMj",
        "outputId": "142c552f-6da9-4e2f-bd0b-1a9c41bd9371"
      },
      "execution_count": 30,
      "outputs": [
        {
          "output_type": "execute_result",
          "data": {
            "text/plain": [
              "<function matplotlib.pyplot.show>"
            ]
          },
          "metadata": {},
          "execution_count": 30
        },
        {
          "output_type": "display_data",
          "data": {
            "text/plain": [
              "<Figure size 1152x648 with 2 Axes>"
            ],
            "image/png": "[encoded data removed]"
          },
          "metadata": {
            "needs_background": "light"
          }
        }
      ]
    }
  ]
}